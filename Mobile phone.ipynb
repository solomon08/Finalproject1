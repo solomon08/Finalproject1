{
 "cells": [
  {
   "cell_type": "code",
   "execution_count": 3,
   "metadata": {
    "collapsed": false
   },
   "outputs": [
    {
     "name": "stdout",
     "output_type": "stream",
     "text": [
      "Populating the interactive namespace from numpy and matplotlib\n"
     ]
    }
   ],
   "source": [
    "import pandas as pd\n",
    "%pylab inline"
   ]
  },
  {
   "cell_type": "code",
   "execution_count": 4,
   "metadata": {
    "collapsed": true
   },
   "outputs": [],
   "source": [
    "import numpy as np\n",
    "import pandas as pd\n",
    "import matplotlib.pyplot as plt"
   ]
  },
  {
   "cell_type": "markdown",
   "metadata": {},
   "source": [
    "###Choosing a better mobile phone with all the features required but the cost of the mobile phone must be minimum. The parameters which are considered while choosing a mobile phone are the brand, generation, network,externalmemory,internal memory, primary camera, secondary camera, battery, bluetooth, standytime, gps, wifi, cost."
   ]
  },
  {
   "cell_type": "code",
   "execution_count": 5,
   "metadata": {
    "collapsed": false
   },
   "outputs": [
    {
     "name": "stdout",
     "output_type": "stream",
     "text": [
      "     Brand  Generation  Network  Ram  Extmemory  Intmemory  PrimaryCamera  \\\n",
      "0        1           3        1  4.0         32         64              8   \n",
      "1        1           3        2  0.5         16          2             18   \n",
      "2        1           4        3  0.5          8          4             16   \n",
      "3        1           3        2  2.0         32         16             13   \n",
      "4        1           4        2  0.5         32         64             13   \n",
      "5        1           2        3  0.5          4         16             13   \n",
      "6        1           3        1  0.5         16          2             10   \n",
      "7        1           3        2  0.5          2         32             13   \n",
      "8        1           3        2  2.0          4         64             16   \n",
      "9        1           3        2  0.5         16         16             18   \n",
      "10       1           3        2  4.0          4         16             16   \n",
      "11       1           2        1  1.0         32         16             20   \n",
      "12       1           4        1  4.0          8         64             13   \n",
      "13       1           4        3  0.5         32         32             20   \n",
      "14       1           2        2  1.0         16          4             18   \n",
      "15       1           2        2  2.0          4          8             20   \n",
      "16       1           3        1  1.0         16         16              5   \n",
      "17       1           3        3  4.0         64          2             16   \n",
      "18       1           2        1  2.0         16          8             18   \n",
      "19       1           2        2  2.0          4         32              5   \n",
      "20       1           3        2  0.5         16         64             13   \n",
      "21       1           3        2  2.0         32          2             16   \n",
      "22       1           4        1  1.0          2         32             16   \n",
      "23       1           4        1  4.0         32          2              8   \n",
      "24       1           4        3  4.0         16         64             16   \n",
      "25       1           2        2  1.0         32          8             20   \n",
      "26       1           4        2  4.0          2          2             10   \n",
      "27       1           2        1  1.0          8          4             16   \n",
      "28       1           3        1  4.0         32          2             16   \n",
      "29       1           4        3  1.0          2          4             16   \n",
      "..     ...         ...      ...  ...        ...        ...            ...   \n",
      "189      4           4        2  1.0         32          4             10   \n",
      "190      4           4        1  2.0          2          8             13   \n",
      "191      4           3        3  0.5          2          8             13   \n",
      "192      4           2        3  0.5          2          4             18   \n",
      "193      4           2        2  4.0          4         64             10   \n",
      "194      4           2        1  4.0          8         16             20   \n",
      "195      4           4        1  4.0          8          2             20   \n",
      "196      4           3        2  2.0          8         32             10   \n",
      "197      4           4        3  4.0          2          8              5   \n",
      "198      4           4        1  0.5          4         64             16   \n",
      "199      4           2        1  1.0         32          8             10   \n",
      "200      5           3        2  4.0          2          4             13   \n",
      "201      5           4        1  1.0          4          8             18   \n",
      "202      5           2        1  0.5         32         64             10   \n",
      "203      5           3        2  4.0          8          4             18   \n",
      "204      5           2        1  4.0          8          8             20   \n",
      "205      5           4        2  2.0         16         64              5   \n",
      "206      5           4        2  2.0          2          8             18   \n",
      "207      5           2        2  4.0          8         64             10   \n",
      "208      5           2        1  1.0         32          4             20   \n",
      "209      5           3        3  1.0          4         32              5   \n",
      "210      5           4        1  0.5          8         64             16   \n",
      "211      5           3        2  4.0          2         64             13   \n",
      "212      5           2        2  1.0         16         64             20   \n",
      "213      5           2        2  2.0          2         16             13   \n",
      "214      5           4        2  0.5          8         32              8   \n",
      "215      5           3        1  4.0          8          2              8   \n",
      "216      5           3        3  0.5          4          2             10   \n",
      "217      5           2        2  4.0          2         64             13   \n",
      "218      5           3        3  1.0          2          8              6   \n",
      "\n",
      "     SecondaryCamera  Battery  Bluetooth  StandyTime  GPS  WiFi  Cost  \n",
      "0                  4     2600          1         590    0     0   860  \n",
      "1                  8     2900          0         380    1     1   420  \n",
      "2                 16     2800          0         498    0     0   310  \n",
      "3                  4     3000          1         394    0     0   230  \n",
      "4                 16     2700          0         890    1     1   600  \n",
      "5                  2     3500          0         540    0     1   230  \n",
      "6                  5     2600          0         333    1     1   380  \n",
      "7                 16     2500          1         654    0     0   900  \n",
      "8                 10     2000          0         424    1     0   530  \n",
      "9                  2     2600          1         646    0     1   630  \n",
      "10                 5     2500          0         981    1     1   550  \n",
      "11                16     2600          1         776    0     0   230  \n",
      "12                 8     2400          0         111    1     1   530  \n",
      "13                 4     2700          1         601    1     0   390  \n",
      "14                 2     3100          0         504    0     1   230  \n",
      "15                 8     2300          0         534    1     1   600  \n",
      "16                10     3200          1         813    0     0   530  \n",
      "17                16     2500          0         612    0     0   410  \n",
      "18                 4     3400          1         346    1     1   590  \n",
      "19                 8     3100          1         295    0     0   350  \n",
      "20                 2     2700          0         355    1     1   380  \n",
      "21                10     3000          1         345    0     0   680  \n",
      "22                16     3100          1         532    1     1   530  \n",
      "23                 5     3200          0         180    0     0   680  \n",
      "24                 2     2100          1         254    0     0   380  \n",
      "25                10     3300          0         312    1     1   230  \n",
      "26                 2     3100          0         681    1     0   380  \n",
      "27                 4     2500          0         136    0     1   530  \n",
      "28                10     2000          1         665    1     0   680  \n",
      "29                 2     2500          1         482    0     1   680  \n",
      "..               ...      ...        ...         ...  ...   ...   ...  \n",
      "189               10     2700          1         451    0     0   530  \n",
      "190                5     2700          1         360    1     0   530  \n",
      "191                5     2800          1         480    1     0   680  \n",
      "192                5     2700          0         450    0     1   680  \n",
      "193                5     2400          1         230    1     0   380  \n",
      "194                5     2500          0         650    1     1   230  \n",
      "195                5     2600          1         690    0     1   230  \n",
      "196               16     2300          0         525    0     1   680  \n",
      "197               16     3200          1         538    1     1   380  \n",
      "198                5     3500          1         424    0     0   680  \n",
      "199                5     2000          1         646    0     1   380  \n",
      "200                2     3000          1         753    1     1   380  \n",
      "201                5     3000          0         643    1     0   680  \n",
      "202               10     3200          0         220    1     1   230  \n",
      "203               10     2400          1         330    0     0   530  \n",
      "204                5     2300          1         504    1     0   530  \n",
      "205                8     3300          0         534    1     0   230  \n",
      "206               16     2800          0         653    0     0   530  \n",
      "207               10     3000          1         846    0     1   230  \n",
      "208                5     2100          1         346    0     1   380  \n",
      "209                2     3400          0         385    0     1   380  \n",
      "210                2     3200          0         455    1     0   680  \n",
      "211                5     2100          1         345    0     1   230  \n",
      "212                2     2400          0         495    1     1   380  \n",
      "213                2     3100          1         646    1     1   380  \n",
      "214               16     3300          1         753    0     0   230  \n",
      "215               10     3100          0         643    1     0   380  \n",
      "216               16     3100          1         220    1     1   530  \n",
      "217                8     2400          1         330    1     1   680  \n",
      "218               10     2700          0         504    0     1   680  \n",
      "\n",
      "[219 rows x 14 columns]\n"
     ]
    }
   ],
   "source": [
    "mobdat = pd.read_csv('mobdata.csv', sep = ',')\n",
    "print(mobdat)"
   ]
  },
  {
   "cell_type": "markdown",
   "metadata": {
    "collapsed": true
   },
   "source": [
    "###Describing the parameters used for selecting a good mobile phone\n"
   ]
  },
  {
   "cell_type": "code",
   "execution_count": 6,
   "metadata": {
    "collapsed": false
   },
   "outputs": [
    {
     "data": {
      "text/plain": [
       "count    219.000000\n",
       "mean      22.520548\n",
       "std       23.207150\n",
       "min        2.000000\n",
       "25%        4.000000\n",
       "50%       16.000000\n",
       "75%       32.000000\n",
       "max       64.000000\n",
       "Name: Intmemory, dtype: float64"
      ]
     },
     "execution_count": 6,
     "metadata": {},
     "output_type": "execute_result"
    }
   ],
   "source": [
    "mobdat.Intmemory.describe()\n"
   ]
  },
  {
   "cell_type": "code",
   "execution_count": 7,
   "metadata": {
    "collapsed": false
   },
   "outputs": [
    {
     "data": {
      "text/plain": [
       "count    219.000000\n",
       "mean      12.566210\n",
       "std       11.310827\n",
       "min        2.000000\n",
       "25%        4.000000\n",
       "50%        8.000000\n",
       "75%       16.000000\n",
       "max       64.000000\n",
       "Name: Extmemory, dtype: float64"
      ]
     },
     "execution_count": 7,
     "metadata": {},
     "output_type": "execute_result"
    }
   ],
   "source": [
    "mobdat.Extmemory.describe()\n"
   ]
  },
  {
   "cell_type": "code",
   "execution_count": 8,
   "metadata": {
    "collapsed": false
   },
   "outputs": [
    {
     "data": {
      "text/plain": [
       "count     219.000000\n",
       "mean     2760.730594\n",
       "std       467.975746\n",
       "min      1500.000000\n",
       "25%      2400.000000\n",
       "50%      2800.000000\n",
       "75%      3100.000000\n",
       "max      3500.000000\n",
       "Name: Battery, dtype: float64"
      ]
     },
     "execution_count": 8,
     "metadata": {},
     "output_type": "execute_result"
    }
   ],
   "source": [
    "mobdat.Battery.describe()\n"
   ]
  },
  {
   "cell_type": "code",
   "execution_count": 9,
   "metadata": {
    "collapsed": false
   },
   "outputs": [
    {
     "data": {
      "text/plain": [
       "count    219.000000\n",
       "mean     457.853881\n",
       "std      168.766319\n",
       "min      230.000000\n",
       "25%      380.000000\n",
       "50%      380.000000\n",
       "75%      600.000000\n",
       "max      900.000000\n",
       "Name: Cost, dtype: float64"
      ]
     },
     "execution_count": 9,
     "metadata": {},
     "output_type": "execute_result"
    }
   ],
   "source": [
    "mobdat.Cost.describe()\n"
   ]
  },
  {
   "cell_type": "code",
   "execution_count": 10,
   "metadata": {
    "collapsed": false
   },
   "outputs": [
    {
     "data": {
      "text/plain": [
       "count    219.000000\n",
       "mean      13.401826\n",
       "std        5.059571\n",
       "min        5.000000\n",
       "25%       10.000000\n",
       "50%       13.000000\n",
       "75%       18.000000\n",
       "max       20.000000\n",
       "Name: PrimaryCamera, dtype: float64"
      ]
     },
     "execution_count": 10,
     "metadata": {},
     "output_type": "execute_result"
    }
   ],
   "source": [
    "mobdat.PrimaryCamera.describe()\n"
   ]
  },
  {
   "cell_type": "code",
   "execution_count": 11,
   "metadata": {
    "collapsed": false
   },
   "outputs": [
    {
     "data": {
      "text/plain": [
       "count    219.000000\n",
       "mean       7.922374\n",
       "std        4.892271\n",
       "min        2.000000\n",
       "25%        5.000000\n",
       "50%        8.000000\n",
       "75%       10.000000\n",
       "max       16.000000\n",
       "Name: SecondaryCamera, dtype: float64"
      ]
     },
     "execution_count": 11,
     "metadata": {},
     "output_type": "execute_result"
    }
   ],
   "source": [
    "mobdat.SecondaryCamera.describe()\n"
   ]
  },
  {
   "cell_type": "code",
   "execution_count": 12,
   "metadata": {
    "collapsed": false
   },
   "outputs": [
    {
     "data": {
      "text/plain": [
       "count    219.000000\n",
       "mean       0.493151\n",
       "std        0.501098\n",
       "min        0.000000\n",
       "25%        0.000000\n",
       "50%        0.000000\n",
       "75%        1.000000\n",
       "max        1.000000\n",
       "Name: GPS, dtype: float64"
      ]
     },
     "execution_count": 12,
     "metadata": {},
     "output_type": "execute_result"
    }
   ],
   "source": [
    "mobdat.GPS.describe()\n"
   ]
  },
  {
   "cell_type": "code",
   "execution_count": 13,
   "metadata": {
    "collapsed": false
   },
   "outputs": [
    {
     "data": {
      "text/plain": [
       "count    219.000000\n",
       "mean       0.484018\n",
       "std        0.500889\n",
       "min        0.000000\n",
       "25%        0.000000\n",
       "50%        0.000000\n",
       "75%        1.000000\n",
       "max        1.000000\n",
       "Name: WiFi, dtype: float64"
      ]
     },
     "execution_count": 13,
     "metadata": {},
     "output_type": "execute_result"
    }
   ],
   "source": [
    "mobdat.WiFi.describe()\n"
   ]
  },
  {
   "cell_type": "code",
   "execution_count": 14,
   "metadata": {
    "collapsed": false
   },
   "outputs": [
    {
     "data": {
      "text/plain": [
       "count    219.000000\n",
       "mean       3.063927\n",
       "std        0.810213\n",
       "min        2.000000\n",
       "25%        2.000000\n",
       "50%        3.000000\n",
       "75%        4.000000\n",
       "max        4.000000\n",
       "Name: Generation, dtype: float64"
      ]
     },
     "execution_count": 14,
     "metadata": {},
     "output_type": "execute_result"
    }
   ],
   "source": [
    "mobdat.Generation.describe()\n"
   ]
  },
  {
   "cell_type": "code",
   "execution_count": 15,
   "metadata": {
    "collapsed": false
   },
   "outputs": [
    {
     "data": {
      "text/plain": [
       "count    219.000000\n",
       "mean       1.835616\n",
       "std        0.784255\n",
       "min        1.000000\n",
       "25%        1.000000\n",
       "50%        2.000000\n",
       "75%        2.000000\n",
       "max        3.000000\n",
       "Name: Network, dtype: float64"
      ]
     },
     "execution_count": 15,
     "metadata": {},
     "output_type": "execute_result"
    }
   ],
   "source": [
    "mobdat.Network.describe()\n"
   ]
  },
  {
   "cell_type": "code",
   "execution_count": 16,
   "metadata": {
    "collapsed": false
   },
   "outputs": [
    {
     "data": {
      "text/plain": [
       "count    219.000000\n",
       "mean       2.002283\n",
       "std        1.408117\n",
       "min        0.500000\n",
       "25%        0.500000\n",
       "50%        2.000000\n",
       "75%        4.000000\n",
       "max        4.000000\n",
       "Name: Ram, dtype: float64"
      ]
     },
     "execution_count": 16,
     "metadata": {},
     "output_type": "execute_result"
    }
   ],
   "source": [
    "mobdat.Ram.describe()\n"
   ]
  },
  {
   "cell_type": "code",
   "execution_count": 17,
   "metadata": {
    "collapsed": false
   },
   "outputs": [
    {
     "data": {
      "text/plain": [
       "count    219.000000\n",
       "mean       0.525114\n",
       "std        0.500513\n",
       "min        0.000000\n",
       "25%        0.000000\n",
       "50%        1.000000\n",
       "75%        1.000000\n",
       "max        1.000000\n",
       "Name: Bluetooth, dtype: float64"
      ]
     },
     "execution_count": 17,
     "metadata": {},
     "output_type": "execute_result"
    }
   ],
   "source": [
    "mobdat.Bluetooth.describe()\n"
   ]
  },
  {
   "cell_type": "code",
   "execution_count": 18,
   "metadata": {
    "collapsed": false
   },
   "outputs": [
    {
     "data": {
      "text/plain": [
       "<bound method DataFrame.isnull of      Brand  Generation  Network  Ram  Extmemory  Intmemory  PrimaryCamera  \\\n",
       "0        1           3        1  4.0         32         64              8   \n",
       "1        1           3        2  0.5         16          2             18   \n",
       "2        1           4        3  0.5          8          4             16   \n",
       "3        1           3        2  2.0         32         16             13   \n",
       "4        1           4        2  0.5         32         64             13   \n",
       "5        1           2        3  0.5          4         16             13   \n",
       "6        1           3        1  0.5         16          2             10   \n",
       "7        1           3        2  0.5          2         32             13   \n",
       "8        1           3        2  2.0          4         64             16   \n",
       "9        1           3        2  0.5         16         16             18   \n",
       "10       1           3        2  4.0          4         16             16   \n",
       "11       1           2        1  1.0         32         16             20   \n",
       "12       1           4        1  4.0          8         64             13   \n",
       "13       1           4        3  0.5         32         32             20   \n",
       "14       1           2        2  1.0         16          4             18   \n",
       "15       1           2        2  2.0          4          8             20   \n",
       "16       1           3        1  1.0         16         16              5   \n",
       "17       1           3        3  4.0         64          2             16   \n",
       "18       1           2        1  2.0         16          8             18   \n",
       "19       1           2        2  2.0          4         32              5   \n",
       "20       1           3        2  0.5         16         64             13   \n",
       "21       1           3        2  2.0         32          2             16   \n",
       "22       1           4        1  1.0          2         32             16   \n",
       "23       1           4        1  4.0         32          2              8   \n",
       "24       1           4        3  4.0         16         64             16   \n",
       "25       1           2        2  1.0         32          8             20   \n",
       "26       1           4        2  4.0          2          2             10   \n",
       "27       1           2        1  1.0          8          4             16   \n",
       "28       1           3        1  4.0         32          2             16   \n",
       "29       1           4        3  1.0          2          4             16   \n",
       "..     ...         ...      ...  ...        ...        ...            ...   \n",
       "189      4           4        2  1.0         32          4             10   \n",
       "190      4           4        1  2.0          2          8             13   \n",
       "191      4           3        3  0.5          2          8             13   \n",
       "192      4           2        3  0.5          2          4             18   \n",
       "193      4           2        2  4.0          4         64             10   \n",
       "194      4           2        1  4.0          8         16             20   \n",
       "195      4           4        1  4.0          8          2             20   \n",
       "196      4           3        2  2.0          8         32             10   \n",
       "197      4           4        3  4.0          2          8              5   \n",
       "198      4           4        1  0.5          4         64             16   \n",
       "199      4           2        1  1.0         32          8             10   \n",
       "200      5           3        2  4.0          2          4             13   \n",
       "201      5           4        1  1.0          4          8             18   \n",
       "202      5           2        1  0.5         32         64             10   \n",
       "203      5           3        2  4.0          8          4             18   \n",
       "204      5           2        1  4.0          8          8             20   \n",
       "205      5           4        2  2.0         16         64              5   \n",
       "206      5           4        2  2.0          2          8             18   \n",
       "207      5           2        2  4.0          8         64             10   \n",
       "208      5           2        1  1.0         32          4             20   \n",
       "209      5           3        3  1.0          4         32              5   \n",
       "210      5           4        1  0.5          8         64             16   \n",
       "211      5           3        2  4.0          2         64             13   \n",
       "212      5           2        2  1.0         16         64             20   \n",
       "213      5           2        2  2.0          2         16             13   \n",
       "214      5           4        2  0.5          8         32              8   \n",
       "215      5           3        1  4.0          8          2              8   \n",
       "216      5           3        3  0.5          4          2             10   \n",
       "217      5           2        2  4.0          2         64             13   \n",
       "218      5           3        3  1.0          2          8              6   \n",
       "\n",
       "     SecondaryCamera  Battery  Bluetooth  StandyTime  GPS  WiFi  Cost  \n",
       "0                  4     2600          1         590    0     0   860  \n",
       "1                  8     2900          0         380    1     1   420  \n",
       "2                 16     2800          0         498    0     0   310  \n",
       "3                  4     3000          1         394    0     0   230  \n",
       "4                 16     2700          0         890    1     1   600  \n",
       "5                  2     3500          0         540    0     1   230  \n",
       "6                  5     2600          0         333    1     1   380  \n",
       "7                 16     2500          1         654    0     0   900  \n",
       "8                 10     2000          0         424    1     0   530  \n",
       "9                  2     2600          1         646    0     1   630  \n",
       "10                 5     2500          0         981    1     1   550  \n",
       "11                16     2600          1         776    0     0   230  \n",
       "12                 8     2400          0         111    1     1   530  \n",
       "13                 4     2700          1         601    1     0   390  \n",
       "14                 2     3100          0         504    0     1   230  \n",
       "15                 8     2300          0         534    1     1   600  \n",
       "16                10     3200          1         813    0     0   530  \n",
       "17                16     2500          0         612    0     0   410  \n",
       "18                 4     3400          1         346    1     1   590  \n",
       "19                 8     3100          1         295    0     0   350  \n",
       "20                 2     2700          0         355    1     1   380  \n",
       "21                10     3000          1         345    0     0   680  \n",
       "22                16     3100          1         532    1     1   530  \n",
       "23                 5     3200          0         180    0     0   680  \n",
       "24                 2     2100          1         254    0     0   380  \n",
       "25                10     3300          0         312    1     1   230  \n",
       "26                 2     3100          0         681    1     0   380  \n",
       "27                 4     2500          0         136    0     1   530  \n",
       "28                10     2000          1         665    1     0   680  \n",
       "29                 2     2500          1         482    0     1   680  \n",
       "..               ...      ...        ...         ...  ...   ...   ...  \n",
       "189               10     2700          1         451    0     0   530  \n",
       "190                5     2700          1         360    1     0   530  \n",
       "191                5     2800          1         480    1     0   680  \n",
       "192                5     2700          0         450    0     1   680  \n",
       "193                5     2400          1         230    1     0   380  \n",
       "194                5     2500          0         650    1     1   230  \n",
       "195                5     2600          1         690    0     1   230  \n",
       "196               16     2300          0         525    0     1   680  \n",
       "197               16     3200          1         538    1     1   380  \n",
       "198                5     3500          1         424    0     0   680  \n",
       "199                5     2000          1         646    0     1   380  \n",
       "200                2     3000          1         753    1     1   380  \n",
       "201                5     3000          0         643    1     0   680  \n",
       "202               10     3200          0         220    1     1   230  \n",
       "203               10     2400          1         330    0     0   530  \n",
       "204                5     2300          1         504    1     0   530  \n",
       "205                8     3300          0         534    1     0   230  \n",
       "206               16     2800          0         653    0     0   530  \n",
       "207               10     3000          1         846    0     1   230  \n",
       "208                5     2100          1         346    0     1   380  \n",
       "209                2     3400          0         385    0     1   380  \n",
       "210                2     3200          0         455    1     0   680  \n",
       "211                5     2100          1         345    0     1   230  \n",
       "212                2     2400          0         495    1     1   380  \n",
       "213                2     3100          1         646    1     1   380  \n",
       "214               16     3300          1         753    0     0   230  \n",
       "215               10     3100          0         643    1     0   380  \n",
       "216               16     3100          1         220    1     1   530  \n",
       "217                8     2400          1         330    1     1   680  \n",
       "218               10     2700          0         504    0     1   680  \n",
       "\n",
       "[219 rows x 14 columns]>"
      ]
     },
     "execution_count": 18,
     "metadata": {},
     "output_type": "execute_result"
    }
   ],
   "source": [
    "mobdat.isnull"
   ]
  },
  {
   "cell_type": "markdown",
   "metadata": {},
   "source": [
    "###Missing Values \n"
   ]
  },
  {
   "cell_type": "code",
   "execution_count": 19,
   "metadata": {
    "collapsed": false
   },
   "outputs": [
    {
     "data": {
      "text/html": [
       "<div>\n",
       "<table border=\"1\" class=\"dataframe\">\n",
       "  <thead>\n",
       "    <tr style=\"text-align: right;\">\n",
       "      <th></th>\n",
       "      <th>Brand</th>\n",
       "      <th>Generation</th>\n",
       "      <th>Network</th>\n",
       "      <th>Ram</th>\n",
       "      <th>Extmemory</th>\n",
       "      <th>Intmemory</th>\n",
       "      <th>PrimaryCamera</th>\n",
       "      <th>SecondaryCamera</th>\n",
       "      <th>Battery</th>\n",
       "      <th>Bluetooth</th>\n",
       "      <th>StandyTime</th>\n",
       "      <th>GPS</th>\n",
       "      <th>WiFi</th>\n",
       "      <th>Cost</th>\n",
       "    </tr>\n",
       "  </thead>\n",
       "  <tbody>\n",
       "  </tbody>\n",
       "</table>\n",
       "</div>"
      ],
      "text/plain": [
       "Empty DataFrame\n",
       "Columns: [Brand, Generation, Network, Ram, Extmemory, Intmemory, PrimaryCamera, SecondaryCamera, Battery, Bluetooth, StandyTime, GPS, WiFi, Cost]\n",
       "Index: []"
      ]
     },
     "execution_count": 19,
     "metadata": {},
     "output_type": "execute_result"
    }
   ],
   "source": [
    "mobdat[mobdat.Brand.isnull()]\n"
   ]
  },
  {
   "cell_type": "markdown",
   "metadata": {},
   "source": [
    "###Hence Brand has No Missing values"
   ]
  },
  {
   "cell_type": "markdown",
   "metadata": {},
   "source": [
    "###Histogram for Brand"
   ]
  },
  {
   "cell_type": "code",
   "execution_count": 20,
   "metadata": {
    "collapsed": false
   },
   "outputs": [
    {
     "data": {
      "text/plain": [
       "<matplotlib.axes._subplots.AxesSubplot at 0xb9e3da0>"
      ]
     },
     "execution_count": 20,
     "metadata": {},
     "output_type": "execute_result"
    },
    {
     "data": {
      "image/png": "[encoded data removed]",
      "text/plain": [
       "<matplotlib.figure.Figure at 0x2e2a7b8>"
      ]
     },
     "metadata": {},
     "output_type": "display_data"
    }
   ],
   "source": [
    "mobdat.Brand.value_counts().plot(kind=\"bar\")\n"
   ]
  },
  {
   "cell_type": "markdown",
   "metadata": {},
   "source": [
    "###Missing Values"
   ]
  },
  {
   "cell_type": "code",
   "execution_count": 21,
   "metadata": {
    "collapsed": false
   },
   "outputs": [
    {
     "data": {
      "text/html": [
       "<div>\n",
       "<table border=\"1\" class=\"dataframe\">\n",
       "  <thead>\n",
       "    <tr style=\"text-align: right;\">\n",
       "      <th></th>\n",
       "      <th>Brand</th>\n",
       "      <th>Generation</th>\n",
       "      <th>Network</th>\n",
       "      <th>Ram</th>\n",
       "      <th>Extmemory</th>\n",
       "      <th>Intmemory</th>\n",
       "      <th>PrimaryCamera</th>\n",
       "      <th>SecondaryCamera</th>\n",
       "      <th>Battery</th>\n",
       "      <th>Bluetooth</th>\n",
       "      <th>StandyTime</th>\n",
       "      <th>GPS</th>\n",
       "      <th>WiFi</th>\n",
       "      <th>Cost</th>\n",
       "    </tr>\n",
       "  </thead>\n",
       "  <tbody>\n",
       "  </tbody>\n",
       "</table>\n",
       "</div>"
      ],
      "text/plain": [
       "Empty DataFrame\n",
       "Columns: [Brand, Generation, Network, Ram, Extmemory, Intmemory, PrimaryCamera, SecondaryCamera, Battery, Bluetooth, StandyTime, GPS, WiFi, Cost]\n",
       "Index: []"
      ]
     },
     "execution_count": 21,
     "metadata": {},
     "output_type": "execute_result"
    }
   ],
   "source": [
    "mobdat[mobdat.Network.isnull()]\n"
   ]
  },
  {
   "cell_type": "markdown",
   "metadata": {},
   "source": [
    "###Hence Network has no Missing values"
   ]
  },
  {
   "cell_type": "markdown",
   "metadata": {},
   "source": [
    "###Histogram for Network"
   ]
  },
  {
   "cell_type": "code",
   "execution_count": 22,
   "metadata": {
    "collapsed": false
   },
   "outputs": [
    {
     "data": {
      "text/plain": [
       "<matplotlib.axes._subplots.AxesSubplot at 0xba286a0>"
      ]
     },
     "execution_count": 22,
     "metadata": {},
     "output_type": "execute_result"
    },
    {
     "data": {
      "image/png": "[encoded data removed]",
      "text/plain": [
       "<matplotlib.figure.Figure at 0xba42b70>"
      ]
     },
     "metadata": {},
     "output_type": "display_data"
    }
   ],
   "source": [
    "mobdat.Network.value_counts().plot(kind=\"bar\")\n"
   ]
  },
  {
   "cell_type": "markdown",
   "metadata": {},
   "source": [
    "###Missing Values"
   ]
  },
  {
   "cell_type": "code",
   "execution_count": 23,
   "metadata": {
    "collapsed": false
   },
   "outputs": [
    {
     "data": {
      "text/html": [
       "<div>\n",
       "<table border=\"1\" class=\"dataframe\">\n",
       "  <thead>\n",
       "    <tr style=\"text-align: right;\">\n",
       "      <th></th>\n",
       "      <th>Brand</th>\n",
       "      <th>Generation</th>\n",
       "      <th>Network</th>\n",
       "      <th>Ram</th>\n",
       "      <th>Extmemory</th>\n",
       "      <th>Intmemory</th>\n",
       "      <th>PrimaryCamera</th>\n",
       "      <th>SecondaryCamera</th>\n",
       "      <th>Battery</th>\n",
       "      <th>Bluetooth</th>\n",
       "      <th>StandyTime</th>\n",
       "      <th>GPS</th>\n",
       "      <th>WiFi</th>\n",
       "      <th>Cost</th>\n",
       "    </tr>\n",
       "  </thead>\n",
       "  <tbody>\n",
       "  </tbody>\n",
       "</table>\n",
       "</div>"
      ],
      "text/plain": [
       "Empty DataFrame\n",
       "Columns: [Brand, Generation, Network, Ram, Extmemory, Intmemory, PrimaryCamera, SecondaryCamera, Battery, Bluetooth, StandyTime, GPS, WiFi, Cost]\n",
       "Index: []"
      ]
     },
     "execution_count": 23,
     "metadata": {},
     "output_type": "execute_result"
    }
   ],
   "source": [
    "mobdat[mobdat.Generation.isnull()]\n"
   ]
  },
  {
   "cell_type": "markdown",
   "metadata": {},
   "source": [
    "###Hence Generation has no Missing Values"
   ]
  },
  {
   "cell_type": "markdown",
   "metadata": {},
   "source": [
    "###Histogram for Generation"
   ]
  },
  {
   "cell_type": "code",
   "execution_count": 25,
   "metadata": {
    "collapsed": false
   },
   "outputs": [
    {
     "data": {
      "text/plain": [
       "<matplotlib.axes._subplots.AxesSubplot at 0xbdab2e8>"
      ]
     },
     "execution_count": 25,
     "metadata": {},
     "output_type": "execute_result"
    },
    {
     "data": {
      "image/png": "[encoded data removed]",
      "text/plain": [
       "<matplotlib.figure.Figure at 0xbd049e8>"
      ]
     },
     "metadata": {},
     "output_type": "display_data"
    }
   ],
   "source": [
    "mobdat.Generation.value_counts().plot(kind=\"bar\")\n"
   ]
  },
  {
   "cell_type": "markdown",
   "metadata": {},
   "source": [
    "###Missing Values"
   ]
  },
  {
   "cell_type": "code",
   "execution_count": 26,
   "metadata": {
    "collapsed": false
   },
   "outputs": [
    {
     "data": {
      "text/html": [
       "<div>\n",
       "<table border=\"1\" class=\"dataframe\">\n",
       "  <thead>\n",
       "    <tr style=\"text-align: right;\">\n",
       "      <th></th>\n",
       "      <th>Brand</th>\n",
       "      <th>Generation</th>\n",
       "      <th>Network</th>\n",
       "      <th>Ram</th>\n",
       "      <th>Extmemory</th>\n",
       "      <th>Intmemory</th>\n",
       "      <th>PrimaryCamera</th>\n",
       "      <th>SecondaryCamera</th>\n",
       "      <th>Battery</th>\n",
       "      <th>Bluetooth</th>\n",
       "      <th>StandyTime</th>\n",
       "      <th>GPS</th>\n",
       "      <th>WiFi</th>\n",
       "      <th>Cost</th>\n",
       "    </tr>\n",
       "  </thead>\n",
       "  <tbody>\n",
       "  </tbody>\n",
       "</table>\n",
       "</div>"
      ],
      "text/plain": [
       "Empty DataFrame\n",
       "Columns: [Brand, Generation, Network, Ram, Extmemory, Intmemory, PrimaryCamera, SecondaryCamera, Battery, Bluetooth, StandyTime, GPS, WiFi, Cost]\n",
       "Index: []"
      ]
     },
     "execution_count": 26,
     "metadata": {},
     "output_type": "execute_result"
    }
   ],
   "source": [
    "mobdat[mobdat.Ram.isnull()]\n"
   ]
  },
  {
   "cell_type": "markdown",
   "metadata": {},
   "source": [
    "###Hence Ram has no Missing values"
   ]
  },
  {
   "cell_type": "markdown",
   "metadata": {},
   "source": [
    "###Histogram for Ram"
   ]
  },
  {
   "cell_type": "code",
   "execution_count": 27,
   "metadata": {
    "collapsed": false
   },
   "outputs": [
    {
     "data": {
      "text/plain": [
       "<matplotlib.axes._subplots.AxesSubplot at 0xc0f4748>"
      ]
     },
     "execution_count": 27,
     "metadata": {},
     "output_type": "execute_result"
    },
    {
     "data": {
      "image/png": "[encoded data removed]",
      "text/plain": [
       "<matplotlib.figure.Figure at 0xbfd1710>"
      ]
     },
     "metadata": {},
     "output_type": "display_data"
    }
   ],
   "source": [
    "mobdat.Ram.value_counts().plot(kind=\"bar\")\n"
   ]
  },
  {
   "cell_type": "markdown",
   "metadata": {},
   "source": [
    "###Missing Values"
   ]
  },
  {
   "cell_type": "code",
   "execution_count": 28,
   "metadata": {
    "collapsed": false
   },
   "outputs": [
    {
     "data": {
      "text/html": [
       "<div>\n",
       "<table border=\"1\" class=\"dataframe\">\n",
       "  <thead>\n",
       "    <tr style=\"text-align: right;\">\n",
       "      <th></th>\n",
       "      <th>Brand</th>\n",
       "      <th>Generation</th>\n",
       "      <th>Network</th>\n",
       "      <th>Ram</th>\n",
       "      <th>Extmemory</th>\n",
       "      <th>Intmemory</th>\n",
       "      <th>PrimaryCamera</th>\n",
       "      <th>SecondaryCamera</th>\n",
       "      <th>Battery</th>\n",
       "      <th>Bluetooth</th>\n",
       "      <th>StandyTime</th>\n",
       "      <th>GPS</th>\n",
       "      <th>WiFi</th>\n",
       "      <th>Cost</th>\n",
       "    </tr>\n",
       "  </thead>\n",
       "  <tbody>\n",
       "  </tbody>\n",
       "</table>\n",
       "</div>"
      ],
      "text/plain": [
       "Empty DataFrame\n",
       "Columns: [Brand, Generation, Network, Ram, Extmemory, Intmemory, PrimaryCamera, SecondaryCamera, Battery, Bluetooth, StandyTime, GPS, WiFi, Cost]\n",
       "Index: []"
      ]
     },
     "execution_count": 28,
     "metadata": {},
     "output_type": "execute_result"
    }
   ],
   "source": [
    "mobdat[mobdat.Extmemory.isnull()]\n"
   ]
  },
  {
   "cell_type": "markdown",
   "metadata": {},
   "source": [
    "###Hence Extmemory has no Missing values"
   ]
  },
  {
   "cell_type": "markdown",
   "metadata": {},
   "source": [
    "###Histogram for Extmemory"
   ]
  },
  {
   "cell_type": "code",
   "execution_count": 29,
   "metadata": {
    "collapsed": false
   },
   "outputs": [
    {
     "data": {
      "text/plain": [
       "<matplotlib.axes._subplots.AxesSubplot at 0xbd19320>"
      ]
     },
     "execution_count": 29,
     "metadata": {},
     "output_type": "execute_result"
    },
    {
     "data": {
      "image/png": "[encoded data removed]",
      "text/plain": [
       "<matplotlib.figure.Figure at 0xc2175f8>"
      ]
     },
     "metadata": {},
     "output_type": "display_data"
    }
   ],
   "source": [
    "mobdat.Extmemory.value_counts().plot(kind=\"bar\")\n"
   ]
  },
  {
   "cell_type": "markdown",
   "metadata": {},
   "source": [
    "###Missing Values"
   ]
  },
  {
   "cell_type": "code",
   "execution_count": 30,
   "metadata": {
    "collapsed": false,
    "scrolled": true
   },
   "outputs": [
    {
     "data": {
      "text/html": [
       "<div>\n",
       "<table border=\"1\" class=\"dataframe\">\n",
       "  <thead>\n",
       "    <tr style=\"text-align: right;\">\n",
       "      <th></th>\n",
       "      <th>Brand</th>\n",
       "      <th>Generation</th>\n",
       "      <th>Network</th>\n",
       "      <th>Ram</th>\n",
       "      <th>Extmemory</th>\n",
       "      <th>Intmemory</th>\n",
       "      <th>PrimaryCamera</th>\n",
       "      <th>SecondaryCamera</th>\n",
       "      <th>Battery</th>\n",
       "      <th>Bluetooth</th>\n",
       "      <th>StandyTime</th>\n",
       "      <th>GPS</th>\n",
       "      <th>WiFi</th>\n",
       "      <th>Cost</th>\n",
       "    </tr>\n",
       "  </thead>\n",
       "  <tbody>\n",
       "  </tbody>\n",
       "</table>\n",
       "</div>"
      ],
      "text/plain": [
       "Empty DataFrame\n",
       "Columns: [Brand, Generation, Network, Ram, Extmemory, Intmemory, PrimaryCamera, SecondaryCamera, Battery, Bluetooth, StandyTime, GPS, WiFi, Cost]\n",
       "Index: []"
      ]
     },
     "execution_count": 30,
     "metadata": {},
     "output_type": "execute_result"
    }
   ],
   "source": [
    "mobdat[mobdat.Intmemory.isnull()]\n"
   ]
  },
  {
   "cell_type": "markdown",
   "metadata": {},
   "source": [
    "###Hence Intmemory has no Missing values"
   ]
  },
  {
   "cell_type": "markdown",
   "metadata": {},
   "source": [
    "###Histogram"
   ]
  },
  {
   "cell_type": "code",
   "execution_count": 31,
   "metadata": {
    "collapsed": false
   },
   "outputs": [
    {
     "data": {
      "text/plain": [
       "<matplotlib.axes._subplots.AxesSubplot at 0xc1f1908>"
      ]
     },
     "execution_count": 31,
     "metadata": {},
     "output_type": "execute_result"
    },
    {
     "data": {
      "image/png": "[encoded data removed]",
      "text/plain": [
       "<matplotlib.figure.Figure at 0xcf72198>"
      ]
     },
     "metadata": {},
     "output_type": "display_data"
    }
   ],
   "source": [
    "mobdat.Intmemory.value_counts().plot(kind=\"bar\")\n"
   ]
  },
  {
   "cell_type": "markdown",
   "metadata": {},
   "source": [
    "###Missing Values"
   ]
  },
  {
   "cell_type": "code",
   "execution_count": 32,
   "metadata": {
    "collapsed": false
   },
   "outputs": [
    {
     "data": {
      "text/html": [
       "<div>\n",
       "<table border=\"1\" class=\"dataframe\">\n",
       "  <thead>\n",
       "    <tr style=\"text-align: right;\">\n",
       "      <th></th>\n",
       "      <th>Brand</th>\n",
       "      <th>Generation</th>\n",
       "      <th>Network</th>\n",
       "      <th>Ram</th>\n",
       "      <th>Extmemory</th>\n",
       "      <th>Intmemory</th>\n",
       "      <th>PrimaryCamera</th>\n",
       "      <th>SecondaryCamera</th>\n",
       "      <th>Battery</th>\n",
       "      <th>Bluetooth</th>\n",
       "      <th>StandyTime</th>\n",
       "      <th>GPS</th>\n",
       "      <th>WiFi</th>\n",
       "      <th>Cost</th>\n",
       "    </tr>\n",
       "  </thead>\n",
       "  <tbody>\n",
       "  </tbody>\n",
       "</table>\n",
       "</div>"
      ],
      "text/plain": [
       "Empty DataFrame\n",
       "Columns: [Brand, Generation, Network, Ram, Extmemory, Intmemory, PrimaryCamera, SecondaryCamera, Battery, Bluetooth, StandyTime, GPS, WiFi, Cost]\n",
       "Index: []"
      ]
     },
     "execution_count": 32,
     "metadata": {},
     "output_type": "execute_result"
    }
   ],
   "source": [
    "mobdat[mobdat.PrimaryCamera.isnull()]\n"
   ]
  },
  {
   "cell_type": "markdown",
   "metadata": {},
   "source": [
    "###Hence PrimaryCamera has no Missing values"
   ]
  },
  {
   "cell_type": "markdown",
   "metadata": {},
   "source": [
    "###Histogram for PrimaryCamera"
   ]
  },
  {
   "cell_type": "code",
   "execution_count": 33,
   "metadata": {
    "collapsed": false
   },
   "outputs": [
    {
     "data": {
      "text/plain": [
       "<matplotlib.axes._subplots.AxesSubplot at 0xd078be0>"
      ]
     },
     "execution_count": 33,
     "metadata": {},
     "output_type": "execute_result"
    },
    {
     "data": {
      "image/png": "[encoded data removed]",
      "text/plain": [
       "<matplotlib.figure.Figure at 0xd1a8b00>"
      ]
     },
     "metadata": {},
     "output_type": "display_data"
    }
   ],
   "source": [
    "mobdat.PrimaryCamera.value_counts().plot(kind=\"bar\")\n"
   ]
  },
  {
   "cell_type": "markdown",
   "metadata": {},
   "source": [
    "###Missing Values"
   ]
  },
  {
   "cell_type": "code",
   "execution_count": 34,
   "metadata": {
    "collapsed": false
   },
   "outputs": [
    {
     "data": {
      "text/html": [
       "<div>\n",
       "<table border=\"1\" class=\"dataframe\">\n",
       "  <thead>\n",
       "    <tr style=\"text-align: right;\">\n",
       "      <th></th>\n",
       "      <th>Brand</th>\n",
       "      <th>Generation</th>\n",
       "      <th>Network</th>\n",
       "      <th>Ram</th>\n",
       "      <th>Extmemory</th>\n",
       "      <th>Intmemory</th>\n",
       "      <th>PrimaryCamera</th>\n",
       "      <th>SecondaryCamera</th>\n",
       "      <th>Battery</th>\n",
       "      <th>Bluetooth</th>\n",
       "      <th>StandyTime</th>\n",
       "      <th>GPS</th>\n",
       "      <th>WiFi</th>\n",
       "      <th>Cost</th>\n",
       "    </tr>\n",
       "  </thead>\n",
       "  <tbody>\n",
       "  </tbody>\n",
       "</table>\n",
       "</div>"
      ],
      "text/plain": [
       "Empty DataFrame\n",
       "Columns: [Brand, Generation, Network, Ram, Extmemory, Intmemory, PrimaryCamera, SecondaryCamera, Battery, Bluetooth, StandyTime, GPS, WiFi, Cost]\n",
       "Index: []"
      ]
     },
     "execution_count": 34,
     "metadata": {},
     "output_type": "execute_result"
    }
   ],
   "source": [
    "mobdat[mobdat.SecondaryCamera.isnull()]\n"
   ]
  },
  {
   "cell_type": "markdown",
   "metadata": {},
   "source": [
    "###Hence SecondaryCamera has no Missing Values"
   ]
  },
  {
   "cell_type": "markdown",
   "metadata": {},
   "source": [
    "###Histogram for SecondaryCamera"
   ]
  },
  {
   "cell_type": "code",
   "execution_count": 35,
   "metadata": {
    "collapsed": false
   },
   "outputs": [
    {
     "data": {
      "text/plain": [
       "<matplotlib.axes._subplots.AxesSubplot at 0xd245710>"
      ]
     },
     "execution_count": 35,
     "metadata": {},
     "output_type": "execute_result"
    },
    {
     "data": {
      "image/png": "[encoded data removed]",
      "text/plain": [
       "<matplotlib.figure.Figure at 0xd403ba8>"
      ]
     },
     "metadata": {},
     "output_type": "display_data"
    }
   ],
   "source": [
    "mobdat.SecondaryCamera.value_counts().plot(kind=\"bar\")\n"
   ]
  },
  {
   "cell_type": "markdown",
   "metadata": {},
   "source": [
    "###Missing Values"
   ]
  },
  {
   "cell_type": "code",
   "execution_count": 36,
   "metadata": {
    "collapsed": false
   },
   "outputs": [
    {
     "data": {
      "text/html": [
       "<div>\n",
       "<table border=\"1\" class=\"dataframe\">\n",
       "  <thead>\n",
       "    <tr style=\"text-align: right;\">\n",
       "      <th></th>\n",
       "      <th>Brand</th>\n",
       "      <th>Generation</th>\n",
       "      <th>Network</th>\n",
       "      <th>Ram</th>\n",
       "      <th>Extmemory</th>\n",
       "      <th>Intmemory</th>\n",
       "      <th>PrimaryCamera</th>\n",
       "      <th>SecondaryCamera</th>\n",
       "      <th>Battery</th>\n",
       "      <th>Bluetooth</th>\n",
       "      <th>StandyTime</th>\n",
       "      <th>GPS</th>\n",
       "      <th>WiFi</th>\n",
       "      <th>Cost</th>\n",
       "    </tr>\n",
       "  </thead>\n",
       "  <tbody>\n",
       "  </tbody>\n",
       "</table>\n",
       "</div>"
      ],
      "text/plain": [
       "Empty DataFrame\n",
       "Columns: [Brand, Generation, Network, Ram, Extmemory, Intmemory, PrimaryCamera, SecondaryCamera, Battery, Bluetooth, StandyTime, GPS, WiFi, Cost]\n",
       "Index: []"
      ]
     },
     "execution_count": 36,
     "metadata": {},
     "output_type": "execute_result"
    }
   ],
   "source": [
    "mobdat[mobdat.Battery.isnull()]\n"
   ]
  },
  {
   "cell_type": "markdown",
   "metadata": {},
   "source": [
    "###Hence Battery has no Missing Values"
   ]
  },
  {
   "cell_type": "markdown",
   "metadata": {},
   "source": [
    "###Histogram for Battery"
   ]
  },
  {
   "cell_type": "code",
   "execution_count": 37,
   "metadata": {
    "collapsed": false
   },
   "outputs": [
    {
     "data": {
      "text/plain": [
       "<matplotlib.axes._subplots.AxesSubplot at 0xd5401d0>"
      ]
     },
     "execution_count": 37,
     "metadata": {},
     "output_type": "execute_result"
    },
    {
     "data": {
      "image/png": "[encoded data removed]",
      "text/plain": [
       "<matplotlib.figure.Figure at 0xd62b9b0>"
      ]
     },
     "metadata": {},
     "output_type": "display_data"
    }
   ],
   "source": [
    "mobdat.Battery.value_counts().plot(kind=\"bar\")\n"
   ]
  },
  {
   "cell_type": "markdown",
   "metadata": {},
   "source": [
    "###Missing Values"
   ]
  },
  {
   "cell_type": "code",
   "execution_count": 38,
   "metadata": {
    "collapsed": false
   },
   "outputs": [
    {
     "data": {
      "text/html": [
       "<div>\n",
       "<table border=\"1\" class=\"dataframe\">\n",
       "  <thead>\n",
       "    <tr style=\"text-align: right;\">\n",
       "      <th></th>\n",
       "      <th>Brand</th>\n",
       "      <th>Generation</th>\n",
       "      <th>Network</th>\n",
       "      <th>Ram</th>\n",
       "      <th>Extmemory</th>\n",
       "      <th>Intmemory</th>\n",
       "      <th>PrimaryCamera</th>\n",
       "      <th>SecondaryCamera</th>\n",
       "      <th>Battery</th>\n",
       "      <th>Bluetooth</th>\n",
       "      <th>StandyTime</th>\n",
       "      <th>GPS</th>\n",
       "      <th>WiFi</th>\n",
       "      <th>Cost</th>\n",
       "    </tr>\n",
       "  </thead>\n",
       "  <tbody>\n",
       "  </tbody>\n",
       "</table>\n",
       "</div>"
      ],
      "text/plain": [
       "Empty DataFrame\n",
       "Columns: [Brand, Generation, Network, Ram, Extmemory, Intmemory, PrimaryCamera, SecondaryCamera, Battery, Bluetooth, StandyTime, GPS, WiFi, Cost]\n",
       "Index: []"
      ]
     },
     "execution_count": 38,
     "metadata": {},
     "output_type": "execute_result"
    }
   ],
   "source": [
    "mobdat[mobdat.GPS.isnull()]\n"
   ]
  },
  {
   "cell_type": "markdown",
   "metadata": {},
   "source": [
    "###Hence GPS has no Missing Values"
   ]
  },
  {
   "cell_type": "markdown",
   "metadata": {},
   "source": [
    "###Histogram for GPS"
   ]
  },
  {
   "cell_type": "code",
   "execution_count": 39,
   "metadata": {
    "collapsed": false
   },
   "outputs": [
    {
     "data": {
      "text/plain": [
       "<matplotlib.axes._subplots.AxesSubplot at 0xd540080>"
      ]
     },
     "execution_count": 39,
     "metadata": {},
     "output_type": "execute_result"
    },
    {
     "data": {
      "image/png": "[encoded data removed]",
      "text/plain": [
       "<matplotlib.figure.Figure at 0xd836eb8>"
      ]
     },
     "metadata": {},
     "output_type": "display_data"
    }
   ],
   "source": [
    "mobdat.GPS.value_counts().plot(kind=\"bar\")\n"
   ]
  },
  {
   "cell_type": "markdown",
   "metadata": {},
   "source": [
    "###Missing Values"
   ]
  },
  {
   "cell_type": "code",
   "execution_count": 40,
   "metadata": {
    "collapsed": false
   },
   "outputs": [
    {
     "data": {
      "text/html": [
       "<div>\n",
       "<table border=\"1\" class=\"dataframe\">\n",
       "  <thead>\n",
       "    <tr style=\"text-align: right;\">\n",
       "      <th></th>\n",
       "      <th>Brand</th>\n",
       "      <th>Generation</th>\n",
       "      <th>Network</th>\n",
       "      <th>Ram</th>\n",
       "      <th>Extmemory</th>\n",
       "      <th>Intmemory</th>\n",
       "      <th>PrimaryCamera</th>\n",
       "      <th>SecondaryCamera</th>\n",
       "      <th>Battery</th>\n",
       "      <th>Bluetooth</th>\n",
       "      <th>StandyTime</th>\n",
       "      <th>GPS</th>\n",
       "      <th>WiFi</th>\n",
       "      <th>Cost</th>\n",
       "    </tr>\n",
       "  </thead>\n",
       "  <tbody>\n",
       "  </tbody>\n",
       "</table>\n",
       "</div>"
      ],
      "text/plain": [
       "Empty DataFrame\n",
       "Columns: [Brand, Generation, Network, Ram, Extmemory, Intmemory, PrimaryCamera, SecondaryCamera, Battery, Bluetooth, StandyTime, GPS, WiFi, Cost]\n",
       "Index: []"
      ]
     },
     "execution_count": 40,
     "metadata": {},
     "output_type": "execute_result"
    }
   ],
   "source": [
    "mobdat[mobdat.WiFi.isnull()]\n"
   ]
  },
  {
   "cell_type": "markdown",
   "metadata": {},
   "source": [
    "###Hence WiFi has no Missing Values"
   ]
  },
  {
   "cell_type": "markdown",
   "metadata": {},
   "source": [
    "###Histogram for WiFi"
   ]
  },
  {
   "cell_type": "code",
   "execution_count": 41,
   "metadata": {
    "collapsed": false
   },
   "outputs": [
    {
     "data": {
      "text/plain": [
       "<matplotlib.axes._subplots.AxesSubplot at 0xda92278>"
      ]
     },
     "execution_count": 41,
     "metadata": {},
     "output_type": "execute_result"
    },
    {
     "data": {
      "image/png": "[encoded data removed]",
      "text/plain": [
       "<matplotlib.figure.Figure at 0xd8535f8>"
      ]
     },
     "metadata": {},
     "output_type": "display_data"
    }
   ],
   "source": [
    "mobdat.WiFi.value_counts().plot(kind=\"bar\")\n"
   ]
  },
  {
   "cell_type": "markdown",
   "metadata": {},
   "source": [
    "###Missing Values"
   ]
  },
  {
   "cell_type": "code",
   "execution_count": 42,
   "metadata": {
    "collapsed": false
   },
   "outputs": [
    {
     "data": {
      "text/html": [
       "<div>\n",
       "<table border=\"1\" class=\"dataframe\">\n",
       "  <thead>\n",
       "    <tr style=\"text-align: right;\">\n",
       "      <th></th>\n",
       "      <th>Brand</th>\n",
       "      <th>Generation</th>\n",
       "      <th>Network</th>\n",
       "      <th>Ram</th>\n",
       "      <th>Extmemory</th>\n",
       "      <th>Intmemory</th>\n",
       "      <th>PrimaryCamera</th>\n",
       "      <th>SecondaryCamera</th>\n",
       "      <th>Battery</th>\n",
       "      <th>Bluetooth</th>\n",
       "      <th>StandyTime</th>\n",
       "      <th>GPS</th>\n",
       "      <th>WiFi</th>\n",
       "      <th>Cost</th>\n",
       "    </tr>\n",
       "  </thead>\n",
       "  <tbody>\n",
       "  </tbody>\n",
       "</table>\n",
       "</div>"
      ],
      "text/plain": [
       "Empty DataFrame\n",
       "Columns: [Brand, Generation, Network, Ram, Extmemory, Intmemory, PrimaryCamera, SecondaryCamera, Battery, Bluetooth, StandyTime, GPS, WiFi, Cost]\n",
       "Index: []"
      ]
     },
     "execution_count": 42,
     "metadata": {},
     "output_type": "execute_result"
    }
   ],
   "source": [
    "mobdat[mobdat.StandyTime.isnull()]\n"
   ]
  },
  {
   "cell_type": "markdown",
   "metadata": {},
   "source": [
    "###Hence StandyTime has no Missing Values"
   ]
  },
  {
   "cell_type": "markdown",
   "metadata": {},
   "source": [
    "###Histogram for StandyTime"
   ]
  },
  {
   "cell_type": "code",
   "execution_count": 43,
   "metadata": {
    "collapsed": false
   },
   "outputs": [
    {
     "data": {
      "text/plain": [
       "<matplotlib.axes._subplots.AxesSubplot at 0xda86da0>"
      ]
     },
     "execution_count": 43,
     "metadata": {},
     "output_type": "execute_result"
    },
    {
     "data": {
      "image/png": "[encoded data removed]",
      "text/plain": [
       "<matplotlib.figure.Figure at 0xdb545f8>"
      ]
     },
     "metadata": {},
     "output_type": "display_data"
    }
   ],
   "source": [
    "mobdat.StandyTime.value_counts().plot(kind=\"bar\")\n"
   ]
  },
  {
   "cell_type": "markdown",
   "metadata": {},
   "source": [
    "###Missing Values"
   ]
  },
  {
   "cell_type": "code",
   "execution_count": 44,
   "metadata": {
    "collapsed": false
   },
   "outputs": [
    {
     "data": {
      "text/html": [
       "<div>\n",
       "<table border=\"1\" class=\"dataframe\">\n",
       "  <thead>\n",
       "    <tr style=\"text-align: right;\">\n",
       "      <th></th>\n",
       "      <th>Brand</th>\n",
       "      <th>Generation</th>\n",
       "      <th>Network</th>\n",
       "      <th>Ram</th>\n",
       "      <th>Extmemory</th>\n",
       "      <th>Intmemory</th>\n",
       "      <th>PrimaryCamera</th>\n",
       "      <th>SecondaryCamera</th>\n",
       "      <th>Battery</th>\n",
       "      <th>Bluetooth</th>\n",
       "      <th>StandyTime</th>\n",
       "      <th>GPS</th>\n",
       "      <th>WiFi</th>\n",
       "      <th>Cost</th>\n",
       "    </tr>\n",
       "  </thead>\n",
       "  <tbody>\n",
       "  </tbody>\n",
       "</table>\n",
       "</div>"
      ],
      "text/plain": [
       "Empty DataFrame\n",
       "Columns: [Brand, Generation, Network, Ram, Extmemory, Intmemory, PrimaryCamera, SecondaryCamera, Battery, Bluetooth, StandyTime, GPS, WiFi, Cost]\n",
       "Index: []"
      ]
     },
     "execution_count": 44,
     "metadata": {},
     "output_type": "execute_result"
    }
   ],
   "source": [
    "mobdat[mobdat.Cost.isnull()]\n"
   ]
  },
  {
   "cell_type": "markdown",
   "metadata": {},
   "source": [
    "###Hence Cost has no Missing Values"
   ]
  },
  {
   "cell_type": "markdown",
   "metadata": {},
   "source": [
    "###Histogram for Cost"
   ]
  },
  {
   "cell_type": "code",
   "execution_count": 45,
   "metadata": {
    "collapsed": false
   },
   "outputs": [
    {
     "data": {
      "text/plain": [
       "<matplotlib.axes._subplots.AxesSubplot at 0xe063518>"
      ]
     },
     "execution_count": 45,
     "metadata": {},
     "output_type": "execute_result"
    },
    {
     "data": {
      "image/png": "[encoded data removed]",
      "text/plain": [
       "<matplotlib.figure.Figure at 0xdb48be0>"
      ]
     },
     "metadata": {},
     "output_type": "display_data"
    }
   ],
   "source": [
    "mobdat.Cost.value_counts().plot(kind=\"bar\")\n"
   ]
  },
  {
   "cell_type": "code",
   "execution_count": null,
   "metadata": {
    "collapsed": true
   },
   "outputs": [],
   "source": []
  },
  {
   "cell_type": "code",
   "execution_count": null,
   "metadata": {
    "collapsed": true
   },
   "outputs": [],
   "source": []
  }
 ],
 "metadata": {
  "kernelspec": {
   "display_name": "Python 2",
   "language": "python",
   "name": "python2"
  },
  "language_info": {
   "codemirror_mode": {
    "name": "ipython",
    "version": 2
   },
   "file_extension": ".py",
   "mimetype": "text/x-python",
   "name": "python",
   "nbconvert_exporter": "python",
   "pygments_lexer": "ipython2",
   "version": "2.7.10"
  }
 },
 "nbformat": 4,
 "nbformat_minor": 0
}
